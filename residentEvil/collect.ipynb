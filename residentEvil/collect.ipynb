{
 "cells": [
  {
   "cell_type": "code",
   "execution_count": 26,
   "metadata": {},
   "outputs": [],
   "source": [
    "import requests\n",
    "\n",
    "def get_content(url):\n",
    "    response = requests.get(url)\n",
    "    if response.status_code == 200:\n",
    "        return response.text"
   ]
  },
  {
   "cell_type": "code",
   "execution_count": 27,
   "metadata": {},
   "outputs": [],
   "source": [
    "from bs4 import BeautifulSoup\n",
    "\n",
    "\n",
    "def get_basic_info(soup):\n",
    "    div_page = soup.find('div', class_ = 'td-page-content')\n",
    "    paragrafo = div_page.findAll('p')[1]\n",
    "    ems = paragrafo.findAll('em')\n",
    "    data = {}\n",
    "    for i in ems:\n",
    "        chave, valor, *_ = i.text.split(':')\n",
    "        chave = chave.strip(' ')\n",
    "        data[chave] = valor.strip(' ')\n",
    "    return data "
   ]
  },
  {
   "cell_type": "code",
   "execution_count": 28,
   "metadata": {},
   "outputs": [],
   "source": [
    "def get_appearances(soup):\n",
    "    lis =  soup.find('div', class_ = 'td-page-content').find('h4').findNext().findAll('li')\n",
    "    return [i.text for i in lis]"
   ]
  },
  {
   "cell_type": "code",
   "execution_count": 29,
   "metadata": {},
   "outputs": [],
   "source": [
    "def get_character_data(url):\n",
    "    response = requests.get(url)\n",
    "    if response.status_code != 200:\n",
    "        return {}\n",
    "    else:\n",
    "        soup = BeautifulSoup(response.text)\n",
    "\n",
    "        data = get_basic_info(soup)\n",
    "        data['Aparições'] = get_appearances(soup)\n",
    "\n",
    "        return  data"
   ]
  },
  {
   "cell_type": "code",
   "execution_count": 30,
   "metadata": {},
   "outputs": [],
   "source": [
    "def getAllCharacters():\n",
    "    url = 'https://www.residentevildatabase.com/personagens/'\n",
    "    soup_charachters = BeautifulSoup(get_content(url))\n",
    "    anchors = soup_charachters.find('div', class_ = 'td-page-content').findAll('a')\n",
    "\n",
    "    links = [i.get('href') for i in anchors]  \n",
    "    return links"
   ]
  },
  {
   "cell_type": "code",
   "execution_count": 31,
   "metadata": {},
   "outputs": [
    {
     "name": "stderr",
     "output_type": "stream",
     "text": [
      "100%|██████████| 164/164 [00:36<00:00,  4.51it/s]\n"
     ]
    }
   ],
   "source": [
    "from tqdm import tqdm\n",
    "\n",
    "links = getAllCharacters()\n",
    "\n",
    "data = []\n",
    "\n",
    "for i in tqdm(links):\n",
    "    d = get_character_data(i)\n",
    "    d[\"link\"] = i\n",
    "    data.append(d)"
   ]
  },
  {
   "cell_type": "code",
   "execution_count": null,
   "metadata": {},
   "outputs": [],
   "source": []
  }
 ],
 "metadata": {
  "kernelspec": {
   "display_name": "data-collect-env",
   "language": "python",
   "name": "python3"
  },
  "language_info": {
   "codemirror_mode": {
    "name": "ipython",
    "version": 3
   },
   "file_extension": ".py",
   "mimetype": "text/x-python",
   "name": "python",
   "nbconvert_exporter": "python",
   "pygments_lexer": "ipython3",
   "version": "3.12.3"
  }
 },
 "nbformat": 4,
 "nbformat_minor": 2
}
